{
 "cells": [
  {
   "cell_type": "code",
   "execution_count": 3,
   "id": "a82e2107",
   "metadata": {},
   "outputs": [],
   "source": [
    "import pandas as pd"
   ]
  },
  {
   "cell_type": "code",
   "execution_count": 6,
   "id": "2427a68e",
   "metadata": {},
   "outputs": [],
   "source": [
    "FakeNews = pd.read_excel(\"/Users/britfathi/Downloads/FakeNews (1).xlsx\")"
   ]
  },
  {
   "cell_type": "code",
   "execution_count": 7,
   "id": "0cd84068",
   "metadata": {},
   "outputs": [
    {
     "data": {
      "text/html": [
       "<div>\n",
       "<style scoped>\n",
       "    .dataframe tbody tr th:only-of-type {\n",
       "        vertical-align: middle;\n",
       "    }\n",
       "\n",
       "    .dataframe tbody tr th {\n",
       "        vertical-align: top;\n",
       "    }\n",
       "\n",
       "    .dataframe thead th {\n",
       "        text-align: right;\n",
       "    }\n",
       "</style>\n",
       "<table border=\"1\" class=\"dataframe\">\n",
       "  <thead>\n",
       "    <tr style=\"text-align: right;\">\n",
       "      <th></th>\n",
       "      <th>when</th>\n",
       "      <th>url</th>\n",
       "      <th>tracker</th>\n",
       "    </tr>\n",
       "  </thead>\n",
       "  <tbody>\n",
       "    <tr>\n",
       "      <th>0</th>\n",
       "      <td>before-nov-2016</td>\n",
       "      <td>http://wayback.archive.org/web/20161004072420i...</td>\n",
       "      <td>DoubleClick</td>\n",
       "    </tr>\n",
       "    <tr>\n",
       "      <th>1</th>\n",
       "      <td>before-nov-2016</td>\n",
       "      <td>http://wayback.archive.org/web/20161004072420i...</td>\n",
       "      <td>RevContent</td>\n",
       "    </tr>\n",
       "    <tr>\n",
       "      <th>2</th>\n",
       "      <td>before-nov-2016</td>\n",
       "      <td>http://wayback.archive.org/web/20161004072420i...</td>\n",
       "      <td>DoubleClick</td>\n",
       "    </tr>\n",
       "    <tr>\n",
       "      <th>3</th>\n",
       "      <td>before-nov-2016</td>\n",
       "      <td>http://wayback.archive.org/web/20161004072420i...</td>\n",
       "      <td>Google Syndication</td>\n",
       "    </tr>\n",
       "    <tr>\n",
       "      <th>4</th>\n",
       "      <td>before-nov-2016</td>\n",
       "      <td>http://wayback.archive.org/web/20161004072420i...</td>\n",
       "      <td>DoubleClick Ad Exchange-Seller</td>\n",
       "    </tr>\n",
       "  </tbody>\n",
       "</table>\n",
       "</div>"
      ],
      "text/plain": [
       "              when                                                url  \\\n",
       "0  before-nov-2016  http://wayback.archive.org/web/20161004072420i...   \n",
       "1  before-nov-2016  http://wayback.archive.org/web/20161004072420i...   \n",
       "2  before-nov-2016  http://wayback.archive.org/web/20161004072420i...   \n",
       "3  before-nov-2016  http://wayback.archive.org/web/20161004072420i...   \n",
       "4  before-nov-2016  http://wayback.archive.org/web/20161004072420i...   \n",
       "\n",
       "                          tracker  \n",
       "0                     DoubleClick  \n",
       "1                      RevContent  \n",
       "2                     DoubleClick  \n",
       "3              Google Syndication  \n",
       "4  DoubleClick Ad Exchange-Seller  "
      ]
     },
     "execution_count": 7,
     "metadata": {},
     "output_type": "execute_result"
    }
   ],
   "source": [
    "FakeNews.head()"
   ]
  },
  {
   "cell_type": "code",
   "execution_count": null,
   "id": "bd7989ea",
   "metadata": {},
   "outputs": [],
   "source": []
  }
 ],
 "metadata": {
  "kernelspec": {
   "display_name": "Python 3 (ipykernel)",
   "language": "python",
   "name": "python3"
  },
  "language_info": {
   "codemirror_mode": {
    "name": "ipython",
    "version": 3
   },
   "file_extension": ".py",
   "mimetype": "text/x-python",
   "name": "python",
   "nbconvert_exporter": "python",
   "pygments_lexer": "ipython3",
   "version": "3.10.9"
  }
 },
 "nbformat": 4,
 "nbformat_minor": 5
}
